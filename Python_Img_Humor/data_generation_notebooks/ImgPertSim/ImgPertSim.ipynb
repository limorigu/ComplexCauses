{
 "cells": [
  {
   "cell_type": "markdown",
   "metadata": {},
   "source": [
    "### Image Preturbation simulation"
   ]
  },
  {
   "cell_type": "code",
   "execution_count": 1,
   "metadata": {},
   "outputs": [],
   "source": [
    "import warnings\n",
    "warnings.filterwarnings('ignore')\n",
    "import argparse\n",
    "from tqdm import tqdm\n",
    "from typing import Union, List, Tuple\n",
    "import numpy as np\n",
    "import torch\n",
    "from torchvision import datasets\n",
    "from torch import nn, optim, autograd\n",
    "import matplotlib.pyplot as plt\n",
    "import pandas as pd\n",
    "from sklearn.decomposition import LatentDirichletAllocation\n",
    "from sklearn.linear_model import LogisticRegression\n",
    "from sklearn.ensemble import RandomForestClassifier\n",
    "from sklearn.ensemble import RandomForestRegressor\n",
    "from sklearn.model_selection import train_test_split\n",
    "from sklearn.preprocessing import OneHotEncoder\n",
    "import random\n",
    "from pathlib import Path\n",
    "from sklearn import svm\n",
    "from sklearn import linear_model\n",
    "from scipy.sparse import csr_matrix\n",
    "from sklearn.metrics import classification_report\n",
    "from sklearn.cross_decomposition import CCA\n",
    "from sklearn.utils import shuffle\n",
    "from sklearn import preprocessing"
   ]
  },
  {
   "cell_type": "markdown",
   "metadata": {},
   "source": [
    "### W as indicator, centrality for MV Gaussian f_W"
   ]
  },
  {
   "cell_type": "code",
   "execution_count": 2,
   "metadata": {},
   "outputs": [
    {
     "data": {
      "image/png": "[encoded data removed]",
      "text/plain": [
       "<Figure size 432x288 with 1 Axes>"
      ]
     },
     "metadata": {
      "needs_background": "light"
     },
     "output_type": "display_data"
    },
    {
     "data": {
      "image/png": "[encoded data removed]",
      "text/plain": [
       "<Figure size 432x288 with 1 Axes>"
      ]
     },
     "metadata": {
      "needs_background": "light"
     },
     "output_type": "display_data"
    },
    {
     "data": {
      "image/png": "[encoded data removed]",
      "text/plain": [
       "<Figure size 432x288 with 1 Axes>"
      ]
     },
     "metadata": {
      "needs_background": "light"
     },
     "output_type": "display_data"
    },
    {
     "data": {
      "image/png": "[encoded data removed]",
      "text/plain": [
       "<Figure size 432x288 with 1 Axes>"
      ]
     },
     "metadata": {
      "needs_background": "light"
     },
     "output_type": "display_data"
    },
    {
     "data": {
      "image/png": "[encoded data removed]",
      "text/plain": [
       "<Figure size 432x288 with 1 Axes>"
      ]
     },
     "metadata": {
      "needs_background": "light"
     },
     "output_type": "display_data"
    },
    {
     "name": "stdout",
     "output_type": "stream",
     "text": [
      "torch.Size([10000])\n",
      "torch.Size([10000, 10, 10])\n"
     ]
    }
   ],
   "source": [
    "# Generate patterns\n",
    "np.random.seed(42)\n",
    "torch.manual_seed(42)\n",
    "\n",
    "n = 10000\n",
    "img_size = 10\n",
    "window_size = 5\n",
    "empty_img = torch.zeros((10,10))\n",
    "original_mark = 5\n",
    "num_windows = (img_size//window_size)**2\n",
    "n_unseen = 2000\n",
    "pert_size = 0.1\n",
    "\n",
    "# 0, cross\n",
    "cross_pattern = empty_img.clone().detach()\n",
    "center = ((img_size-1)//2)\n",
    "cross_pattern[center:center+2, :img_size] += original_mark\n",
    "cross_pattern[:img_size, center:center+2] += original_mark\n",
    "plt.imshow(cross_pattern)\n",
    "plt.show()\n",
    "\n",
    "# 1, square\n",
    "square_pattern = empty_img.clone().detach()\n",
    "square_pattern[:2,:img_size] += original_mark\n",
    "square_pattern[:img_size, :2] += original_mark\n",
    "square_pattern[:img_size,(img_size-2):] += original_mark\n",
    "square_pattern[(img_size-2):, :img_size] += original_mark\n",
    "plt.imshow(square_pattern)\n",
    "plt.show()\n",
    "\n",
    "# 2, diagonals\n",
    "diagonals_pattern = empty_img.clone().detach()\n",
    "for i in range(img_size):\n",
    "    diagonals_pattern[i,i]+=original_mark\n",
    "    diagonals_pattern[i,(img_size-1-i)]+=original_mark\n",
    "plt.imshow(diagonals_pattern)\n",
    "plt.show()\n",
    "\n",
    "# 3, triangle\n",
    "triangle_pattern = empty_img.clone().detach()\n",
    "center = ((img_size-1)//2)\n",
    "for i in range(img_size):\n",
    "    if i%2==0:\n",
    "        triangle_pattern[i,center-(i//2)]+=original_mark\n",
    "        triangle_pattern[i+1,center-(i//2)]+=original_mark\n",
    "        \n",
    "        triangle_pattern[i,(center+(i//2)+1)]+=original_mark\n",
    "        triangle_pattern[i+1,(center+(i//2)+1)]+=original_mark\n",
    "    else:\n",
    "        continue\n",
    "triangle_pattern[(img_size-2):img_size,1:img_size-1]+=original_mark\n",
    "\n",
    "plt.imshow(triangle_pattern)\n",
    "plt.show()\n",
    "\n",
    "# 4, diamond\n",
    "diamond_pattern = empty_img.clone().detach()\n",
    "center = ((img_size-1)//2)\n",
    "for i in range(center-1):\n",
    "    diamond_pattern[i*2:(i*2)+2,center+(i*2):center+(i*2)+2]+=original_mark\n",
    "    diamond_pattern[img_size-(i*2)-2:img_size-(i*2)\n",
    "                    ,center+(i*2):center+(i*2)+2]+=original_mark\n",
    "\n",
    "    diamond_pattern[i*2:(i*2)+2,center-(i*2):center-(i*2)+2]+=original_mark\n",
    "    diamond_pattern[img_size-(i*2)-2:img_size-(i*2)\n",
    "                    ,center-(i*2):center-(i*2)+2]+=original_mark\n",
    "\n",
    "plt.imshow(diamond_pattern)\n",
    "plt.show()\n",
    "\n",
    "patterns_dict = {0: cross_pattern, 1: square_pattern, \n",
    "                 2: diagonals_pattern, 3: triangle_pattern, \n",
    "                 4: diamond_pattern}\n",
    "\n",
    "imgs_shape_ind = torch.multinomial(\n",
    "    torch.tensor([1/5,1/5,1/5,1/5,1/5]), n, replacement=True)\n",
    "print(imgs_shape_ind.shape)\n",
    "imgs = torch.cat([patterns_dict[i.item()] for i in imgs_shape_ind]).reshape(n, \n",
    "                                                                          img_size, \n",
    "                                                                          img_size)\n",
    "\n",
    "print(imgs.shape)"
   ]
  },
  {
   "cell_type": "code",
   "execution_count": 3,
   "metadata": {},
   "outputs": [
    {
     "data": {
      "text/plain": [
       "(torch.Size([10000, 1]), torch.Size([10000, 10, 10]))"
      ]
     },
     "execution_count": 3,
     "metadata": {},
     "output_type": "execute_result"
    }
   ],
   "source": [
    "imgs_shape_ind.reshape(-1, 1).shape, imgs.shape"
   ]
  },
  {
   "cell_type": "code",
   "execution_count": 4,
   "metadata": {},
   "outputs": [
    {
     "name": "stdout",
     "output_type": "stream",
     "text": [
      "canonical correlation test, imgs_shape_ind, imgs: [1.]\n"
     ]
    }
   ],
   "source": [
    "n_components = n_comp = 1\n",
    "cca = CCA(n_components=1)\n",
    "cca.fit(imgs_shape_ind.reshape(-1, 1), imgs.reshape(n, -1))\n",
    "print(\"canonical correlation test, imgs_shape_ind, imgs:\", \n",
    "      np.diag(np.corrcoef(cca.x_scores_, cca.y_scores_, rowvar=False)[:n_comp, n_comp:]))\n"
   ]
  },
  {
   "cell_type": "code",
   "execution_count": 5,
   "metadata": {},
   "outputs": [
    {
     "name": "stderr",
     "output_type": "stream",
     "text": [
      "100%|██████████| 10000/10000 [17:16<00:00,  9.65it/s]\n"
     ]
    }
   ],
   "source": [
    "W_prob_giv_z_dict = {0: [1/4, 1/2,1/4,0], \n",
    "                    1: [1,3, 0, 1/3, 1/3],\n",
    "                    2: [1/2,1/6, 1/6, 1/6],\n",
    "                    3: [0, 0, 1/2, 1/2],\n",
    "                    4: [2/3, 0, 0, 1/3]}\n",
    "\n",
    "W = [torch.multinomial(torch.tensor(W_prob_giv_z_dict[z.item()]), 1) for z in imgs_shape_ind]\n",
    "f_w = torch.cat([torch.zeros(img_size,img_size) \n",
    "               for _ in range(n)]).reshape((n,img_size,img_size))\n",
    "\n",
    "for i, w in enumerate(tqdm(W)):\n",
    "    mv = torch.distributions.multivariate_normal.MultivariateNormal(torch.tensor(w).float(), torch.eye(2))\n",
    "    for _ in range(1000):\n",
    "        sample = mv.sample()\n",
    "        if ((sample > torch.tensor([0,0])).all()) and ((sample < torch.tensor((10,10))).all()):\n",
    "            f_w[i][int(sample[0]), int(sample[1])] += pert_size  "
   ]
  },
  {
   "cell_type": "code",
   "execution_count": 6,
   "metadata": {},
   "outputs": [
    {
     "name": "stderr",
     "output_type": "stream",
     "text": [
      "100%|██████████| 2000/2000 [04:14<00:00,  7.86it/s]\n"
     ]
    }
   ],
   "source": [
    "W_unseen = [torch.tensor([5]) for _ in range(n_unseen)]\n",
    "f_w_unseen = torch.cat([torch.zeros(img_size,img_size) \n",
    "               for _ in range(n_unseen)]).reshape((n_unseen,img_size,img_size))\n",
    "\n",
    "for i, w in enumerate(tqdm(W_unseen)):\n",
    "    mv = torch.distributions.multivariate_normal.MultivariateNormal(torch.tensor(w).float(), torch.eye(2))\n",
    "    for _ in range(1000):\n",
    "        sample = mv.sample()\n",
    "        if ((sample > torch.tensor([0,0])).all()) and ((sample < torch.tensor((10,10))).all()):\n",
    "            f_w_unseen[i][int(sample[0]), int(sample[1])] += pert_size"
   ]
  },
  {
   "cell_type": "code",
   "execution_count": 7,
   "metadata": {},
   "outputs": [
    {
     "name": "stdout",
     "output_type": "stream",
     "text": [
      "torch.Size([10000, 100])\n",
      "torch.Size([10000, 4])\n",
      "torch.Size([10000])\n",
      "torch.Size([2000, 100])\n",
      "torch.Size([2000, 4])\n",
      "torch.Size([2000])\n"
     ]
    }
   ],
   "source": [
    "torch.manual_seed(42)\n",
    "phi_Convolutions_based_on_Z = {0: torch.nn.Conv1d(in_channels=window_size, out_channels=1, kernel_size=5),\n",
    "                              1: torch.nn.Conv1d(in_channels=window_size, out_channels=1, kernel_size=5),\n",
    "                              2: torch.nn.Conv1d(in_channels=window_size, out_channels=1, kernel_size=5),\n",
    "                              3: torch.nn.Conv1d(in_channels=window_size, out_channels=1, kernel_size=5),\n",
    "                              4: torch.nn.Conv1d(in_channels=window_size, out_channels=1, kernel_size=5)}\n",
    "\n",
    "Z = imgs\n",
    "Z_unseen = imgs[:n_unseen, :, :]\n",
    "\n",
    "\n",
    "# create the \"seen\" (training) intervention dataset\n",
    "X = (imgs+f_w+torch.normal(mean=0., std=.5, size=imgs.shape)).reshape(n, img_size**2)\n",
    "print(X.shape)\n",
    "\n",
    "phis = []\n",
    "for x, z in zip(X, imgs_shape_ind):\n",
    "    phis.append([phi_Convolutions_based_on_Z[z.item()]\n",
    "                 (x[i * (window_size**2):(i + 1) * (window_size**2)].\n",
    "                  reshape(1,window_size, window_size)) for i in range(num_windows)])\n",
    "flat_list = [item for sublist in phis for item in sublist]\n",
    "phis_flattened_tensor = torch.FloatTensor(flat_list)\n",
    "phis = phis_flattened_tensor.reshape(n, num_windows)\n",
    "\n",
    "print(phis.shape)\n",
    "Y = 0.7*phis[:,0]+0*phis[:,1]+0*phis[:,2]-0.5*phis[:,3]+torch.normal(mean=0., std=.1, size=(1,))\n",
    "Y_no_noise = 0.7*phis[:,0]+0*phis[:,1]+0*phis[:,2]-0.5*phis[:,3]\n",
    "print(Y.shape)\n",
    "\n",
    "\n",
    "# create the unseen intervention dataset\n",
    "X_unseen = (imgs[:n_unseen, :,:]+f_w_unseen+torch.normal(mean=0., std=.5, size=imgs[:n_unseen, :,:].shape)).reshape(n_unseen, img_size**2)\n",
    "print(X_unseen.shape)\n",
    "\n",
    "phis_unseen = []\n",
    "for x, z in zip(X_unseen, imgs_shape_ind[:n_unseen]):\n",
    "    phis_unseen.append([phi_Convolutions_based_on_Z[z.item()]\n",
    "                        (x[i * (window_size**2):(i + 1) * (window_size**2)]\n",
    "                         .reshape(1, window_size, window_size)) for i in range(num_windows)])\n",
    "\n",
    "flat_list = [item for sublist in phis_unseen for item in sublist]\n",
    "phis_flattened_tensor = torch.FloatTensor(flat_list)\n",
    "phis_unseen = phis_flattened_tensor.reshape(n_unseen, num_windows)\n",
    "\n",
    "print(phis_unseen.shape)\n",
    "Y_unseen = 0.7*phis_unseen[:,0]+0*phis_unseen[:,1]+\\\n",
    "0*phis_unseen[:,2]-0.5*phis_unseen[:,3]+torch.normal(mean=0., std=.1, size=(1,))\n",
    "Y_unseen_no_noise = 0.7*phis_unseen[:,0]+\\\n",
    "0*phis_unseen[:,1]+0*phis_unseen[:,2]-0.5*phis_unseen[:,3]\n",
    "\n",
    "weights_phis_groundtruth = [0.7, 0, 0, -0.5]\n",
    "print(Y_unseen.shape)\n",
    "X = X.reshape(n, img_size, img_size)\n",
    "X_unseen = X_unseen.reshape(n_unseen, img_size, img_size)"
   ]
  },
  {
   "cell_type": "markdown",
   "metadata": {},
   "source": [
    "### Inspect resulting dataset"
   ]
  },
  {
   "cell_type": "code",
   "execution_count": 8,
   "metadata": {},
   "outputs": [
    {
     "name": "stdout",
     "output_type": "stream",
     "text": [
      "old image\n"
     ]
    },
    {
     "data": {
      "image/png": "[encoded data removed]",
      "text/plain": [
       "<Figure size 432x288 with 1 Axes>"
      ]
     },
     "metadata": {
      "needs_background": "light"
     },
     "output_type": "display_data"
    },
    {
     "name": "stdout",
     "output_type": "stream",
     "text": [
      "new image\n"
     ]
    },
    {
     "data": {
      "image/png": "[encoded data removed]",
      "text/plain": [
       "<Figure size 432x288 with 1 Axes>"
      ]
     },
     "metadata": {
      "needs_background": "light"
     },
     "output_type": "display_data"
    },
    {
     "name": "stdout",
     "output_type": "stream",
     "text": [
      "new image unseen\n"
     ]
    },
    {
     "data": {
      "image/png": "[encoded data removed]",
      "text/plain": [
       "<Figure size 432x288 with 1 Axes>"
      ]
     },
     "metadata": {
      "needs_background": "light"
     },
     "output_type": "display_data"
    },
    {
     "name": "stdout",
     "output_type": "stream",
     "text": [
      "(tensor([-5.5346, -5.4430, -5.3814,  ...,  4.5757,  4.6210,  4.6790]), tensor([1, 1, 1,  ..., 1, 1, 1]))\n"
     ]
    }
   ],
   "source": [
    "print(\"old image\")\n",
    "plt.imshow(imgs[0])\n",
    "plt.show()\n",
    "print(\"new image\")\n",
    "plt.imshow(X[0])\n",
    "plt.savefig(\"example_ImgPert.png\")\n",
    "plt.show()\n",
    "print(\"new image unseen\")\n",
    "plt.imshow(X_unseen[0])\n",
    "plt.show()\n",
    "print(Y.unique(return_counts=True))"
   ]
  },
  {
   "cell_type": "code",
   "execution_count": 43,
   "metadata": {},
   "outputs": [
    {
     "name": "stdout",
     "output_type": "stream",
     "text": [
      "old image\n"
     ]
    },
    {
     "data": {
      "image/png": "[encoded data removed]",
      "text/plain": [
       "<Figure size 432x288 with 1 Axes>"
      ]
     },
     "metadata": {
      "needs_background": "light"
     },
     "output_type": "display_data"
    },
    {
     "name": "stdout",
     "output_type": "stream",
     "text": [
      "new image\n"
     ]
    },
    {
     "data": {
      "image/png": "[encoded data removed]",
      "text/plain": [
       "<Figure size 432x288 with 1 Axes>"
      ]
     },
     "metadata": {
      "needs_background": "light"
     },
     "output_type": "display_data"
    },
    {
     "name": "stdout",
     "output_type": "stream",
     "text": [
      "new image unseen\n"
     ]
    },
    {
     "data": {
      "image/png": "[encoded data removed]",
      "text/plain": [
       "<Figure size 432x288 with 1 Axes>"
      ]
     },
     "metadata": {
      "needs_background": "light"
     },
     "output_type": "display_data"
    },
    {
     "name": "stdout",
     "output_type": "stream",
     "text": [
      "(tensor([-3.1489, -3.1391, -3.1184,  ...,  1.6194,  1.6508,  1.6613]), tensor([1, 1, 1,  ..., 1, 1, 1]))\n"
     ]
    }
   ],
   "source": [
    "print(\"old image\")\n",
    "plt.imshow(imgs[0])\n",
    "plt.show()\n",
    "print(\"new image\")\n",
    "plt.imshow(X[0])\n",
    "plt.savefig(\"example_ImgPert.png\")\n",
    "plt.show()\n",
    "print(\"new image unseen\")\n",
    "plt.imshow(X_unseen[0])\n",
    "plt.show()\n",
    "print(Y.unique(return_counts=True))"
   ]
  },
  {
   "cell_type": "code",
   "execution_count": 9,
   "metadata": {},
   "outputs": [
    {
     "data": {
      "text/plain": [
       "array([0., 0., 0., 1., 0.])"
      ]
     },
     "execution_count": 9,
     "metadata": {},
     "output_type": "execute_result"
    }
   ],
   "source": [
    "enc = OneHotEncoder(handle_unknown='ignore')\n",
    "enc.fit(np.array([0,1,2,3,4]).reshape(-1,1))\n",
    "enc.transform(np.array([3]).reshape(-1,1)).toarray()[0]"
   ]
  },
  {
   "cell_type": "code",
   "execution_count": 10,
   "metadata": {},
   "outputs": [],
   "source": [
    "df_train_val = pd.DataFrame.from_dict({\n",
    "    'Z': [i.numpy().reshape(-1) for i in Z], \n",
    "    'W': [i.numpy().reshape(-1) for i in W], \n",
    "    'X': [i.numpy().reshape(-1) for i in X], \n",
    "    'phis': [i.numpy().reshape(-1) for i in phis], \n",
    "    'Y':[i.item() for i in Y],\n",
    "    'img_ind': [i.item() for i in imgs_shape_ind]\n",
    "})\n",
    "df_test_unseen = pd.DataFrame.from_dict({\n",
    "    'Z': [i.numpy().reshape(-1) for i in Z_unseen], \n",
    "    'W': [i.numpy().reshape(-1) for i in W_unseen], \n",
    "    'X': [i.numpy().reshape(-1) for i in X_unseen], \n",
    "    'phis': [i.numpy().reshape(-1) for i in phis_unseen], \n",
    "    'Y':[i.item() for i in Y_unseen],\n",
    "    'img_ind': [i.item() for i in imgs_shape_ind[:2000]]\n",
    "})\n",
    "\n",
    "\n",
    "def one_hot(x):\n",
    "    return enc.transform(np.array([x]).reshape(-1,1)).toarray()[0]\n",
    "\n",
    "df_train_val['W_one_hot'] = df_train_val['W'].apply(lambda x: one_hot(x)) \n",
    "df_test_unseen['W_one_hot'] = df_test_unseen['W'].apply(lambda x: one_hot(x)) \n",
    "\n",
    "df_train_val = df_train_val.sample(frac = 1)\n",
    "df_test_unseen = df_test_unseen.sample(frac = 1)\n",
    "\n",
    "# convert higher-dim variables to individual dataframe columns\n",
    "df_train_val[['W_one_hot'+str(i) for i in range(df_train_val['W_one_hot'].iloc[0].shape[0])]] =\\\n",
    "    pd.DataFrame(df_train_val.W_one_hot.tolist(), index = df_train_val.index)\n",
    "df_train_val.drop('W', axis=1, inplace=True)\n",
    "df_train_val.drop('W_one_hot', axis=1, inplace=True)\n",
    "df_train_val[['X'+str(i) for i in range(df_train_val['X'].iloc[0].shape[0])]] =\\\n",
    "    pd.DataFrame(df_train_val.X.tolist(), index = df_train_val.index)\n",
    "df_train_val.drop('X', axis=1, inplace=True)\n",
    "df_train_val[['phis'+str(i) for i in range(df_train_val['phis'].iloc[0].shape[0])]] =\\\n",
    "    pd.DataFrame(df_train_val.phis.tolist(), index = df_train_val.index)\n",
    "df_train_val.drop('phis', axis=1, inplace=True)\n",
    "df_train_val[['Z'+str(i) for i in range(df_train_val['Z'].iloc[0].shape[0])]] =\\\n",
    "    pd.DataFrame(df_train_val.Z.tolist(), index = df_train_val.index)\n",
    "df_train_val.drop('Z', axis=1, inplace=True)\n",
    "\n",
    "df_test_unseen[['W_one_hot'+str(i) for i in range(df_test_unseen['W_one_hot'].iloc[0].shape[0])]] =\\\n",
    "    pd.DataFrame(df_test_unseen.W_one_hot.tolist(), index = df_test_unseen.index)\n",
    "df_test_unseen.drop('W', axis=1, inplace=True)\n",
    "df_test_unseen.drop('W_one_hot', axis=1, inplace=True)\n",
    "df_test_unseen[['X'+str(i) for i in range(df_test_unseen['X'].iloc[0].shape[0])]] =\\\n",
    "    pd.DataFrame(df_test_unseen.X.tolist(), index = df_test_unseen.index)\n",
    "df_test_unseen.drop('X', axis=1, inplace=True)\n",
    "df_test_unseen[['phis'+str(i) for i in range(df_test_unseen['phis'].iloc[0].shape[0])]] =\\\n",
    "    pd.DataFrame(df_test_unseen.phis.tolist(), index = df_test_unseen.index)\n",
    "df_test_unseen.drop('phis', axis=1, inplace=True)\n",
    "df_test_unseen[['Z'+str(i) for i in range(df_test_unseen['Z'].iloc[0].shape[0])]] =\\\n",
    "    pd.DataFrame(df_test_unseen.Z.tolist(), index = df_test_unseen.index)\n",
    "df_test_unseen.drop('Z', axis=1, inplace=True)\n",
    "\n",
    "\n",
    "df_train_val = shuffle(df_train_val)\n",
    "df_test_unseen = shuffle(df_test_unseen)"
   ]
  },
  {
   "cell_type": "code",
   "execution_count": 11,
   "metadata": {},
   "outputs": [
    {
     "data": {
      "image/png": "[encoded data removed]",
      "text/plain": [
       "<Figure size 432x288 with 1 Axes>"
      ]
     },
     "metadata": {
      "needs_background": "light"
     },
     "output_type": "display_data"
    }
   ],
   "source": [
    "plt.imshow(np.array(df_train_val[['X'+str(i) for i in range(100)]].iloc[25]).reshape(10,10))\n",
    "plt.show()"
   ]
  },
  {
   "cell_type": "code",
   "execution_count": 13,
   "metadata": {},
   "outputs": [
    {
     "data": {
      "image/png": "[encoded data removed]",
      "text/plain": [
       "<Figure size 432x288 with 1 Axes>"
      ]
     },
     "metadata": {
      "needs_background": "light"
     },
     "output_type": "display_data"
    }
   ],
   "source": [
    "plt.hist(torch.cat(W).reshape(1, -1))\n",
    "plt.show()"
   ]
  },
  {
   "cell_type": "code",
   "execution_count": 22,
   "metadata": {},
   "outputs": [
    {
     "data": {
      "image/png": "[encoded data removed]",
      "text/plain": [
       "<Figure size 432x288 with 1 Axes>"
      ]
     },
     "metadata": {
      "needs_background": "light"
     },
     "output_type": "display_data"
    }
   ],
   "source": [
    "plt.hist(torch.cat(W).reshape(1, -1))\n",
    "plt.show()"
   ]
  },
  {
   "cell_type": "code",
   "execution_count": 23,
   "metadata": {},
   "outputs": [
    {
     "data": {
      "image/png": "[encoded data removed]",
      "text/plain": [
       "<Figure size 432x288 with 1 Axes>"
      ]
     },
     "metadata": {
      "needs_background": "light"
     },
     "output_type": "display_data"
    }
   ],
   "source": [
    "plt.hist(torch.mean(X, axis=(1,2)).reshape(1, -1))\n",
    "plt.show()"
   ]
  },
  {
   "cell_type": "code",
   "execution_count": 14,
   "metadata": {},
   "outputs": [
    {
     "data": {
      "image/png": "[encoded data removed]",
      "text/plain": [
       "<Figure size 432x288 with 1 Axes>"
      ]
     },
     "metadata": {
      "needs_background": "light"
     },
     "output_type": "display_data"
    }
   ],
   "source": [
    "plt.hist(torch.mean(X, axis=(1,2)).reshape(1, -1))\n",
    "plt.show()"
   ]
  },
  {
   "cell_type": "code",
   "execution_count": 14,
   "metadata": {},
   "outputs": [
    {
     "data": {
      "image/png": "[encoded data removed]",
      "text/plain": [
       "<Figure size 432x288 with 1 Axes>"
      ]
     },
     "metadata": {
      "needs_background": "light"
     },
     "output_type": "display_data"
    }
   ],
   "source": [
    "plt.hist(df_train_val['Y'])\n",
    "plt.show()"
   ]
  },
  {
   "cell_type": "code",
   "execution_count": 15,
   "metadata": {},
   "outputs": [
    {
     "data": {
      "image/png": "[encoded data removed]",
      "text/plain": [
       "<Figure size 432x288 with 1 Axes>"
      ]
     },
     "metadata": {
      "needs_background": "light"
     },
     "output_type": "display_data"
    }
   ],
   "source": [
    "plt.hist(df_train_val['Y'])\n",
    "plt.show()"
   ]
  },
  {
   "cell_type": "code",
   "execution_count": 15,
   "metadata": {},
   "outputs": [
    {
     "data": {
      "text/plain": [
       "<matplotlib.collections.PathCollection at 0x7fb4bd600a00>"
      ]
     },
     "execution_count": 15,
     "metadata": {},
     "output_type": "execute_result"
    },
    {
     "data": {
      "image/png": "[encoded data removed]",
      "text/plain": [
       "<Figure size 432x288 with 1 Axes>"
      ]
     },
     "metadata": {
      "needs_background": "light"
     },
     "output_type": "display_data"
    }
   ],
   "source": [
    "plt.scatter(df_train_val['Y'], list(range(len(df_train_val['Y']))))"
   ]
  },
  {
   "cell_type": "code",
   "execution_count": 16,
   "metadata": {},
   "outputs": [
    {
     "data": {
      "text/plain": [
       "<matplotlib.collections.PathCollection at 0x7fb576dd3280>"
      ]
     },
     "execution_count": 16,
     "metadata": {},
     "output_type": "execute_result"
    },
    {
     "data": {
      "image/png": "[encoded data removed]",
      "text/plain": [
       "<Figure size 432x288 with 1 Axes>"
      ]
     },
     "metadata": {
      "needs_background": "light"
     },
     "output_type": "display_data"
    }
   ],
   "source": [
    "plt.scatter(df_test_unseen['Y'], list(range(len(df_test_unseen['Y']))))"
   ]
  },
  {
   "cell_type": "code",
   "execution_count": 24,
   "metadata": {},
   "outputs": [
    {
     "data": {
      "image/png": "[encoded data removed]",
      "text/plain": [
       "<Figure size 432x288 with 1 Axes>"
      ]
     },
     "metadata": {
      "needs_background": "light"
     },
     "output_type": "display_data"
    }
   ],
   "source": [
    "plt.hist(Y_unseen.reshape(1, -1))\n",
    "plt.show()"
   ]
  },
  {
   "cell_type": "code",
   "execution_count": 25,
   "metadata": {},
   "outputs": [
    {
     "data": {
      "image/png": "[encoded data removed]",
      "text/plain": [
       "<Figure size 432x288 with 1 Axes>"
      ]
     },
     "metadata": {
      "needs_background": "light"
     },
     "output_type": "display_data"
    }
   ],
   "source": [
    "plt.hist(Y.reshape(1, -1))\n",
    "plt.show()"
   ]
  },
  {
   "cell_type": "markdown",
   "metadata": {},
   "source": [
    "### Export dataset"
   ]
  },
  {
   "cell_type": "code",
   "execution_count": 19,
   "metadata": {},
   "outputs": [
    {
     "name": "stdout",
     "output_type": "stream",
     "text": [
      "(9000, 210) (1000, 210) (1600, 210) (400, 210)\n"
     ]
    }
   ],
   "source": [
    "np.random.seed(42)\n",
    "weights_phis_groundtruth = [0.7, 0, 0, -0.5]\n",
    "total_df_seen = df_train_val[\n",
    "                    list(df_train_val.columns[df_train_val.columns.str.contains('Z')])+\n",
    "                    list(df_train_val.columns[df_train_val.columns.str.contains('W_one_hot')])+\n",
    "                    list(df_train_val.columns[df_train_val.columns.str.contains('X')])+['Y']\n",
    "                    + list(df_train_val.columns[df_train_val.columns.str.contains('phis')])\n",
    "]\n",
    "\n",
    "\n",
    "total_df_unseen = df_test_unseen[list(df_test_unseen.columns[df_test_unseen.columns.str.contains('Z')])+\n",
    "                                list(df_test_unseen.columns[df_test_unseen.columns.str.contains('W_one_hot')])+\n",
    "                                list(df_test_unseen.columns[df_test_unseen.columns.str.contains('X')])+['Y']\n",
    "                                + list(df_test_unseen.columns[df_test_unseen.columns.str.contains('phis')])]\n",
    "\n",
    "total_df_seen = shuffle(total_df_seen)\n",
    "total_df_seen_train = total_df_seen.iloc[:int(len(total_df_seen)*0.9)]\n",
    "total_df_seen_test = total_df_seen.iloc[int(len(total_df_seen)*0.9):]\n",
    "\n",
    "total_df_unseen = shuffle(total_df_unseen)\n",
    "df_test_unseen_train = total_df_unseen.iloc[:int(len(total_df_unseen)*0.8)]\n",
    "df_test_unseen_test = total_df_unseen.iloc[int(len(total_df_unseen)*0.8):]\n",
    "\n",
    "total_df_seen = total_df_seen.to_numpy()\n",
    "total_df_seen_train = total_df_seen_train.to_numpy()\n",
    "total_df_seen_test = total_df_seen_test.to_numpy()\n",
    "\n",
    "test_unseen_train = df_test_unseen_train.to_numpy()\n",
    "test_unseen_test = df_test_unseen_test.to_numpy()\n",
    "\n",
    "print(total_df_seen_train.shape, total_df_seen_test.shape, \n",
    "      test_unseen_train.shape, test_unseen_test.shape)\n",
    "\n",
    "Path('../../data/ImgPertSim/').mkdir(parents=True, exist_ok=True)\n",
    "np.savez_compressed('../../data/ImgPertSim/ImgPertSim_trainset_seen_train.npz', total_df_seen_train)\n",
    "np.savez_compressed('../../data/ImgPertSim/ImgPertSim_trainset_seen_test.npz', total_df_seen_test)\n",
    "np.savez_compressed('../../data/ImgPertSim/ImgPertSim_testset_unseen_train.npz', test_unseen_train)\n",
    "np.savez_compressed('../../data/ImgPertSim/ImgPertSim_testset_unseen_test.npz', test_unseen_test)\n",
    "np.savez_compressed('../../data/ImgPertSim/ImgPertSim_params.npz', weights_phis_groundtruth)"
   ]
  },
  {
   "cell_type": "markdown",
   "metadata": {},
   "source": [
    "## Additional experiments: create 100 versions of datasets with different coefficients for Y"
   ]
  },
  {
   "cell_type": "markdown",
   "metadata": {},
   "source": [
    "The exploration in the next few cells explains how we chose the distribution of Y parameters and std. of the noise. The aim was to find similar stats to the ones for the original Y setting above. Stats for Y above: mean 0.181, std. 1.45"
   ]
  },
  {
   "cell_type": "code",
   "execution_count": 246,
   "metadata": {},
   "outputs": [],
   "source": [
    "np.random.seed(42)"
   ]
  },
  {
   "cell_type": "code",
   "execution_count": 252,
   "metadata": {},
   "outputs": [],
   "source": [
    "df_train_stats = {'mean': [], 'std': [], 'min': [], 'max': []}\n",
    "df_test_unseen_stats = {'mean': [], 'std': [], 'min': [], 'max': []}\n",
    "num_runs_diff_Y = 100\n",
    "\n",
    "for run in range(num_runs_diff_Y):\n",
    "    weights_phis_groundtruth = np.random.uniform(-.3, .3, 4)\n",
    "    zero_out_inds = np.random.choice(4, 2, replace=False)\n",
    "    weights_phis_groundtruth[zero_out_inds] = 0\n",
    "\n",
    "    Y = torch.tensor(weights_phis_groundtruth, dtype=torch.float)@phis.T+torch.normal(mean=0., std=.01, size=(1,))\n",
    "    Y_unseen = torch.tensor(weights_phis_groundtruth, dtype=torch.float)@phis_unseen.T+torch.normal(mean=0., std=.01, size=(1,))\n",
    "\n",
    "    df_train_val['Y'] = [i.item() for i in Y]\n",
    "    df_test_unseen['Y'] = [i.item() for i in Y_unseen]\n",
    "    \n",
    "    df_train_stats['mean'].append(np.mean(df_train_val['Y']))\n",
    "    df_train_stats['std'].append(np.std(df_train_val['Y']))\n",
    "    df_train_stats['min'].append(np.min(df_train_val['Y']))\n",
    "    df_train_stats['max'].append(np.max(df_train_val['Y']))\n",
    "    \n",
    "    df_test_unseen_stats['mean'].append(np.mean(df_test_unseen['Y']))\n",
    "    df_test_unseen_stats['std'].append(np.std(df_test_unseen['Y']))\n",
    "    df_test_unseen_stats['min'].append(np.min(df_test_unseen['Y']))\n",
    "    df_test_unseen_stats['max'].append(np.max(df_test_unseen['Y']))\n",
    "    "
   ]
  },
  {
   "cell_type": "code",
   "execution_count": 253,
   "metadata": {},
   "outputs": [
    {
     "data": {
      "text/plain": [
       "(array([ 8.,  9.,  7., 13., 17., 18., 15.,  5.,  3.,  5.]),\n",
       " array([-0.56360266, -0.43272416, -0.30184566, -0.17096716, -0.04008866,\n",
       "         0.09078984,  0.22166834,  0.35254684,  0.48342534,  0.61430384,\n",
       "         0.74518234]),\n",
       " <BarContainer object of 10 artists>)"
      ]
     },
     "execution_count": 253,
     "metadata": {},
     "output_type": "execute_result"
    },
    {
     "data": {
      "image/png": "[encoded data removed]",
      "text/plain": [
       "<Figure size 432x288 with 1 Axes>"
      ]
     },
     "metadata": {
      "needs_background": "light"
     },
     "output_type": "display_data"
    }
   ],
   "source": [
    "plt.hist(df_train_stats['mean'])"
   ]
  },
  {
   "cell_type": "code",
   "execution_count": 254,
   "metadata": {},
   "outputs": [
    {
     "data": {
      "text/plain": [
       "(array([ 5., 10.,  5.,  8., 20., 19., 12., 11.,  3.,  7.]),\n",
       " array([-0.61076646, -0.48030624, -0.34984601, -0.21938579, -0.08892556,\n",
       "         0.04153466,  0.17199488,  0.30245511,  0.43291533,  0.56337556,\n",
       "         0.69383578]),\n",
       " <BarContainer object of 10 artists>)"
      ]
     },
     "execution_count": 254,
     "metadata": {},
     "output_type": "execute_result"
    },
    {
     "data": {
      "image/png": "[encoded data removed]",
      "text/plain": [
       "<Figure size 432x288 with 1 Axes>"
      ]
     },
     "metadata": {
      "needs_background": "light"
     },
     "output_type": "display_data"
    }
   ],
   "source": [
    "plt.hist(df_test_unseen_stats['mean'])"
   ]
  },
  {
   "cell_type": "code",
   "execution_count": 255,
   "metadata": {},
   "outputs": [
    {
     "data": {
      "text/plain": [
       "(array([16., 28., 13., 17.,  9.,  3.,  8.,  4.,  0.,  2.]),\n",
       " array([0.05095055, 0.26074426, 0.47053796, 0.68033166, 0.89012536,\n",
       "        1.09991906, 1.30971277, 1.51950647, 1.72930017, 1.93909387,\n",
       "        2.14888757]),\n",
       " <BarContainer object of 10 artists>)"
      ]
     },
     "execution_count": 255,
     "metadata": {},
     "output_type": "execute_result"
    },
    {
     "data": {
      "image/png": "[encoded data removed]",
      "text/plain": [
       "<Figure size 432x288 with 1 Axes>"
      ]
     },
     "metadata": {
      "needs_background": "light"
     },
     "output_type": "display_data"
    }
   ],
   "source": [
    "plt.hist(df_train_stats['std'])"
   ]
  },
  {
   "cell_type": "code",
   "execution_count": 256,
   "metadata": {},
   "outputs": [
    {
     "data": {
      "text/plain": [
       "(array([12., 16., 23., 16., 11., 15.,  4.,  1.,  1.,  1.]),\n",
       " array([0.05018031, 0.25583998, 0.46149964, 0.6671593 , 0.87281897,\n",
       "        1.07847863, 1.2841383 , 1.48979796, 1.69545763, 1.90111729,\n",
       "        2.10677696]),\n",
       " <BarContainer object of 10 artists>)"
      ]
     },
     "execution_count": 256,
     "metadata": {},
     "output_type": "execute_result"
    },
    {
     "data": {
      "image/png": "[encoded data removed]",
      "text/plain": [
       "<Figure size 432x288 with 1 Axes>"
      ]
     },
     "metadata": {
      "needs_background": "light"
     },
     "output_type": "display_data"
    }
   ],
   "source": [
    "plt.hist(df_test_unseen_stats['std'])"
   ]
  },
  {
   "cell_type": "code",
   "execution_count": 258,
   "metadata": {},
   "outputs": [],
   "source": [
    "np.random.seed(42)\n",
    "num_runs_diff_Y = 1500\n",
    "for run in range(num_runs_diff_Y):\n",
    "    # sample coefficients from uniform dist, zero out 2 at random\n",
    "    weights_phis_groundtruth = np.random.uniform(-.3, .3, 4)\n",
    "    zero_out_inds = np.random.choice(4, 2, replace=False)\n",
    "    weights_phis_groundtruth[zero_out_inds] = 0\n",
    "    \n",
    "    Y = torch.tensor(weights_phis_groundtruth, dtype=torch.float)@phis.T+torch.normal(mean=0., std=.01, size=(1,))\n",
    "    Y_unseen = torch.tensor(weights_phis_groundtruth, dtype=torch.float)@phis_unseen.T+torch.normal(mean=0., std=.01, size=(1,))\n",
    "    \n",
    "    df_train_val['Y'] = [i.item() for i in Y]\n",
    "    df_test_unseen['Y'] = [i.item() for i in Y_unseen]\n",
    "    \n",
    "    total_df_seen = df_train_val[\n",
    "                    list(df_train_val.columns[df_train_val.columns.str.contains('Z')])+\n",
    "                    list(df_train_val.columns[df_train_val.columns.str.contains('W_one_hot')])+\n",
    "                    list(df_train_val.columns[df_train_val.columns.str.contains('X')])+['Y']\n",
    "                    + list(df_train_val.columns[df_train_val.columns.str.contains('phis')])\n",
    "    ]\n",
    "\n",
    "\n",
    "    total_df_unseen = df_test_unseen[list(df_test_unseen.columns[df_test_unseen.columns.str.contains('Z')])+\n",
    "                                    list(df_test_unseen.columns[df_test_unseen.columns.str.contains('W_one_hot')])+\n",
    "                                    list(df_test_unseen.columns[df_test_unseen.columns.str.contains('X')])+['Y']\n",
    "                                    + list(df_test_unseen.columns[df_test_unseen.columns.str.contains('phis')])]\n",
    "\n",
    "    total_df_seen = shuffle(total_df_seen)\n",
    "    total_df_seen_train = total_df_seen.iloc[:int(len(total_df_seen)*0.9)]\n",
    "    total_df_seen_test = total_df_seen.iloc[int(len(total_df_seen)*0.9):]\n",
    "\n",
    "    total_df_unseen = shuffle(total_df_unseen)\n",
    "    df_test_unseen_train = total_df_unseen.iloc[:int(len(total_df_unseen)*0.8)]\n",
    "    df_test_unseen_test = total_df_unseen.iloc[int(len(total_df_unseen)*0.8):]\n",
    "\n",
    "    total_df_seen = total_df_seen.to_numpy()\n",
    "    total_df_seen_train = total_df_seen_train.to_numpy()\n",
    "    total_df_seen_test = total_df_seen_test.to_numpy()\n",
    "\n",
    "    test_unseen_train = df_test_unseen_train.to_numpy()\n",
    "    test_unseen_test = df_test_unseen_test.to_numpy()\n",
    "\n",
    "    Path('../../data/ImgPertSim/diffY/').mkdir(parents=True, exist_ok=True)\n",
    "    np.savez_compressed('../../data/ImgPertSim/diffY/ImgPertSim_unif{}_trainset_seen_train.npz'.format(run), total_df_seen_train)\n",
    "    np.savez_compressed('../../data/ImgPertSim/diffY/ImgPertSim_unif{}_trainset_seen_test.npz'.format(run), total_df_seen_test)\n",
    "    np.savez_compressed('../../data/ImgPertSim/diffY/ImgPertSim_unif{}_testset_unseen_train.npz'.format(run), test_unseen_train)\n",
    "    np.savez_compressed('../../data/ImgPertSim/diffY/ImgPertSim_unif{}_testset_unseen_test.npz'.format(run), test_unseen_test)\n",
    "    np.savez_compressed('../../data/ImgPertSim/diffY/ImgPertSim_unif{}_params.npz'.format(run), weights_phis_groundtruth)"
   ]
  }
 ],
 "metadata": {
  "kernelspec": {
   "display_name": "Python 3",
   "language": "python",
   "name": "python3"
  },
  "language_info": {
   "codemirror_mode": {
    "name": "ipython",
    "version": 3
   },
   "file_extension": ".py",
   "mimetype": "text/x-python",
   "name": "python",
   "nbconvert_exporter": "python",
   "pygments_lexer": "ipython3",
   "version": "3.8.3"
  }
 },
 "nbformat": 4,
 "nbformat_minor": 4
}
